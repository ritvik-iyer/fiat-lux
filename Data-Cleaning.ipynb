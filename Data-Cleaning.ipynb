{
 "cells": [
  {
   "cell_type": "code",
   "execution_count": 26,
   "metadata": {},
   "outputs": [],
   "source": [
    "import pandas as pd\n",
    "#import random\n",
    "#p = 0.01  # 30% of the lines\n",
    "# keep the header, then take only 1% of lines\n",
    "# if random from [0,1] interval is greater than 0.01 the row will be skipped"
   ]
  },
  {
   "cell_type": "code",
   "execution_count": 11,
   "metadata": {},
   "outputs": [
    {
     "data": {
      "text/html": [
       "<div>\n",
       "<style scoped>\n",
       "    .dataframe tbody tr th:only-of-type {\n",
       "        vertical-align: middle;\n",
       "    }\n",
       "\n",
       "    .dataframe tbody tr th {\n",
       "        vertical-align: top;\n",
       "    }\n",
       "\n",
       "    .dataframe thead th {\n",
       "        text-align: right;\n",
       "    }\n",
       "</style>\n",
       "<table border=\"1\" class=\"dataframe\">\n",
       "  <thead>\n",
       "    <tr style=\"text-align: right;\">\n",
       "      <th></th>\n",
       "      <th>Unnamed: 0</th>\n",
       "      <th>id</th>\n",
       "      <th>domain</th>\n",
       "      <th>type</th>\n",
       "      <th>url</th>\n",
       "      <th>content</th>\n",
       "      <th>scraped_at</th>\n",
       "      <th>inserted_at</th>\n",
       "      <th>updated_at</th>\n",
       "      <th>title</th>\n",
       "      <th>authors</th>\n",
       "      <th>keywords</th>\n",
       "      <th>meta_keywords</th>\n",
       "      <th>meta_description</th>\n",
       "      <th>tags</th>\n",
       "      <th>summary</th>\n",
       "      <th>source</th>\n",
       "    </tr>\n",
       "  </thead>\n",
       "  <tbody>\n",
       "    <tr>\n",
       "      <th>136</th>\n",
       "      <td>136</td>\n",
       "      <td>160</td>\n",
       "      <td>baptistnews.com</td>\n",
       "      <td>political</td>\n",
       "      <td>https://baptistnews.com/article/finding-wonder...</td>\n",
       "      <td>It is rather hard to write with eclipse glasse...</td>\n",
       "      <td>2018-01-25 16:17:44.789555</td>\n",
       "      <td>2018-02-02 01:19:41.756632</td>\n",
       "      <td>2018-02-02 01:19:41.756664</td>\n",
       "      <td>Finding wonder and foreboding in the pathway o...</td>\n",
       "      <td>Molly T. Marshall</td>\n",
       "      <td>NaN</td>\n",
       "      <td>['']</td>\n",
       "      <td>NaN</td>\n",
       "      <td>NaN</td>\n",
       "      <td>NaN</td>\n",
       "      <td>NaN</td>\n",
       "    </tr>\n",
       "    <tr>\n",
       "      <th>137</th>\n",
       "      <td>137</td>\n",
       "      <td>161</td>\n",
       "      <td>baptistnews.com</td>\n",
       "      <td>political</td>\n",
       "      <td>https://baptistnews.com/article/god-works-work/</td>\n",
       "      <td>As our nation celebrated Labor Day, giving att...</td>\n",
       "      <td>2018-01-25 16:17:44.789555</td>\n",
       "      <td>2018-02-02 01:19:41.756632</td>\n",
       "      <td>2018-02-02 01:19:41.756664</td>\n",
       "      <td>God works; we work – Baptist News Global</td>\n",
       "      <td>Molly T. Marshall</td>\n",
       "      <td>NaN</td>\n",
       "      <td>['']</td>\n",
       "      <td>NaN</td>\n",
       "      <td>NaN</td>\n",
       "      <td>NaN</td>\n",
       "      <td>NaN</td>\n",
       "    </tr>\n",
       "    <tr>\n",
       "      <th>158</th>\n",
       "      <td>158</td>\n",
       "      <td>185</td>\n",
       "      <td>baptistnews.com</td>\n",
       "      <td>political</td>\n",
       "      <td>https://baptistnews.com/article/god-play-favor...</td>\n",
       "      <td>We hear quite a bit about survivors’ guilt the...</td>\n",
       "      <td>2018-01-25 16:17:44.789555</td>\n",
       "      <td>2018-02-02 01:19:41.756632</td>\n",
       "      <td>2018-02-02 01:19:41.756664</td>\n",
       "      <td>Does God play favorites? – Baptist News Global</td>\n",
       "      <td>Molly T. Marshall</td>\n",
       "      <td>NaN</td>\n",
       "      <td>['']</td>\n",
       "      <td>NaN</td>\n",
       "      <td>NaN</td>\n",
       "      <td>NaN</td>\n",
       "      <td>NaN</td>\n",
       "    </tr>\n",
       "    <tr>\n",
       "      <th>159</th>\n",
       "      <td>159</td>\n",
       "      <td>187</td>\n",
       "      <td>baptistnews.com</td>\n",
       "      <td>political</td>\n",
       "      <td>https://baptistnews.com/article/putting-god-test/</td>\n",
       "      <td>The study of the Hebrew language did not come ...</td>\n",
       "      <td>2018-01-25 16:17:44.789555</td>\n",
       "      <td>2018-02-02 01:19:41.756632</td>\n",
       "      <td>2018-02-02 01:19:41.756664</td>\n",
       "      <td>Putting God to the test – Baptist News Global</td>\n",
       "      <td>Molly T. Marshall</td>\n",
       "      <td>NaN</td>\n",
       "      <td>['']</td>\n",
       "      <td>NaN</td>\n",
       "      <td>NaN</td>\n",
       "      <td>NaN</td>\n",
       "      <td>NaN</td>\n",
       "    </tr>\n",
       "    <tr>\n",
       "      <th>160</th>\n",
       "      <td>160</td>\n",
       "      <td>188</td>\n",
       "      <td>baptistnews.com</td>\n",
       "      <td>political</td>\n",
       "      <td>https://baptistnews.com/article/metoo-culture-...</td>\n",
       "      <td>Social media is blowing up about a culture of ...</td>\n",
       "      <td>2018-01-25 16:17:44.789555</td>\n",
       "      <td>2018-02-02 01:19:41.756632</td>\n",
       "      <td>2018-02-02 01:19:41.756664</td>\n",
       "      <td>#MeToo! Our culture of sexual predation – Bapt...</td>\n",
       "      <td>Molly T. Marshall</td>\n",
       "      <td>NaN</td>\n",
       "      <td>['']</td>\n",
       "      <td>NaN</td>\n",
       "      <td>NaN</td>\n",
       "      <td>NaN</td>\n",
       "      <td>NaN</td>\n",
       "    </tr>\n",
       "  </tbody>\n",
       "</table>\n",
       "</div>"
      ],
      "text/plain": [
       "     Unnamed: 0   id           domain       type  \\\n",
       "136         136  160  baptistnews.com  political   \n",
       "137         137  161  baptistnews.com  political   \n",
       "158         158  185  baptistnews.com  political   \n",
       "159         159  187  baptistnews.com  political   \n",
       "160         160  188  baptistnews.com  political   \n",
       "\n",
       "                                                   url  \\\n",
       "136  https://baptistnews.com/article/finding-wonder...   \n",
       "137    https://baptistnews.com/article/god-works-work/   \n",
       "158  https://baptistnews.com/article/god-play-favor...   \n",
       "159  https://baptistnews.com/article/putting-god-test/   \n",
       "160  https://baptistnews.com/article/metoo-culture-...   \n",
       "\n",
       "                                               content  \\\n",
       "136  It is rather hard to write with eclipse glasse...   \n",
       "137  As our nation celebrated Labor Day, giving att...   \n",
       "158  We hear quite a bit about survivors’ guilt the...   \n",
       "159  The study of the Hebrew language did not come ...   \n",
       "160  Social media is blowing up about a culture of ...   \n",
       "\n",
       "                     scraped_at                 inserted_at  \\\n",
       "136  2018-01-25 16:17:44.789555  2018-02-02 01:19:41.756632   \n",
       "137  2018-01-25 16:17:44.789555  2018-02-02 01:19:41.756632   \n",
       "158  2018-01-25 16:17:44.789555  2018-02-02 01:19:41.756632   \n",
       "159  2018-01-25 16:17:44.789555  2018-02-02 01:19:41.756632   \n",
       "160  2018-01-25 16:17:44.789555  2018-02-02 01:19:41.756632   \n",
       "\n",
       "                     updated_at  \\\n",
       "136  2018-02-02 01:19:41.756664   \n",
       "137  2018-02-02 01:19:41.756664   \n",
       "158  2018-02-02 01:19:41.756664   \n",
       "159  2018-02-02 01:19:41.756664   \n",
       "160  2018-02-02 01:19:41.756664   \n",
       "\n",
       "                                                 title            authors  \\\n",
       "136  Finding wonder and foreboding in the pathway o...  Molly T. Marshall   \n",
       "137           God works; we work – Baptist News Global  Molly T. Marshall   \n",
       "158     Does God play favorites? – Baptist News Global  Molly T. Marshall   \n",
       "159      Putting God to the test – Baptist News Global  Molly T. Marshall   \n",
       "160  #MeToo! Our culture of sexual predation – Bapt...  Molly T. Marshall   \n",
       "\n",
       "     keywords meta_keywords meta_description tags  summary  source  \n",
       "136       NaN          ['']              NaN  NaN      NaN     NaN  \n",
       "137       NaN          ['']              NaN  NaN      NaN     NaN  \n",
       "158       NaN          ['']              NaN  NaN      NaN     NaN  \n",
       "159       NaN          ['']              NaN  NaN      NaN     NaN  \n",
       "160       NaN          ['']              NaN  NaN      NaN     NaN  "
      ]
     },
     "execution_count": 11,
     "metadata": {},
     "output_type": "execute_result"
    }
   ],
   "source": [
    "politics.head()"
   ]
  },
  {
   "cell_type": "code",
   "execution_count": 12,
   "metadata": {},
   "outputs": [
    {
     "data": {
      "text/plain": [
       "'https://baptistnews.com/article/finding-wonder-foreboding-pathway-total-eclipse/'"
      ]
     },
     "execution_count": 12,
     "metadata": {},
     "output_type": "execute_result"
    }
   ],
   "source": [
    "politics.iloc[0]['url']"
   ]
  },
  {
   "cell_type": "code",
   "execution_count": 13,
   "metadata": {},
   "outputs": [
    {
     "data": {
      "text/plain": [
       "'https://baptistnews.com/more/classifieds/'"
      ]
     },
     "execution_count": 13,
     "metadata": {},
     "output_type": "execute_result"
    }
   ],
   "source": [
    "politics.iloc[50]['url']"
   ]
  },
  {
   "cell_type": "code",
   "execution_count": 14,
   "metadata": {},
   "outputs": [
    {
     "data": {
      "text/plain": [
       "'https://www.dailykos.com/user/juca/favusers'"
      ]
     },
     "execution_count": 14,
     "metadata": {},
     "output_type": "execute_result"
    }
   ],
   "source": [
    "politics.iloc[19394]['url']"
   ]
  },
  {
   "cell_type": "code",
   "execution_count": 15,
   "metadata": {},
   "outputs": [
    {
     "data": {
      "text/plain": [
       "'https://www.dailykos.com/stories/2008/5/24/522370/-What-Hillary-s-Kennedy-Assassination-Misstatement-Really-Means'"
      ]
     },
     "execution_count": 15,
     "metadata": {},
     "output_type": "execute_result"
    }
   ],
   "source": [
    "politics.iloc[-1]['url']"
   ]
  },
  {
   "cell_type": "code",
   "execution_count": 17,
   "metadata": {},
   "outputs": [
    {
     "data": {
      "text/plain": [
       "dailykos.com                        9729\n",
       "breitbart.com                       5563\n",
       "weeklystandard.com                  3811\n",
       "dailycaller.com                     2559\n",
       "washingtonexaminer.com              2084\n",
       "redstate.com                        1360\n",
       "rawstory.com                         285\n",
       "baptistnews.com                      251\n",
       "nationalreview.com                   225\n",
       "city-journal.org                     194\n",
       "heritage.org                         190\n",
       "pjmedia.com                          177\n",
       "commondreams.org                     138\n",
       "alternet.org                         129\n",
       "freedomworks.org                      72\n",
       "theblaze.com                          72\n",
       "thedailybeast.com                     68\n",
       "thinkprogress.org                     55\n",
       "mintpressnews.com                     54\n",
       "americanprogress.org                  51\n",
       "guardianlv.com                        43\n",
       "foreignpolicyjournal.com              34\n",
       "commentarymagazine.com                32\n",
       "observer.com                          30\n",
       "newcoldwar.org                        25\n",
       "judicialwatch.org                     23\n",
       "theintercept.com                      22\n",
       "counterpunch.org                      19\n",
       "americannewsx.com                     18\n",
       "ecowatch.com                          14\n",
       "dissentmagazine.org                    9\n",
       "nakedcapitalism.com                    9\n",
       "yellowhammernews.com                   8\n",
       "ronpaulinstitute.org                   3\n",
       "advocate.com                           3\n",
       "rinf.com                               2\n",
       "ijr.com                                2\n",
       "mrc.org                                1\n",
       "economicnoise.com                      1\n",
       "countercurrents.org                    1\n",
       "conservativereview.com                 1\n",
       "jacobinmag.com                         1\n",
       "counterinformation.wordpress.com       1\n",
       "filmsforaction.org                     1\n",
       "oann.com                               1\n",
       "Name: domain, dtype: int64"
      ]
     },
     "execution_count": 17,
     "metadata": {},
     "output_type": "execute_result"
    }
   ],
   "source": [
    "politics['domain'].value_counts()"
   ]
  },
  {
   "cell_type": "code",
   "execution_count": 22,
   "metadata": {},
   "outputs": [
    {
     "data": {
      "text/plain": [
       "Series([], Name: summary, dtype: int64)"
      ]
     },
     "execution_count": 22,
     "metadata": {},
     "output_type": "execute_result"
    }
   ],
   "source": [
    "politics['summary'].value_counts()"
   ]
  },
  {
   "cell_type": "code",
   "execution_count": 25,
   "metadata": {},
   "outputs": [
    {
     "data": {
      "text/plain": [
       "Series([], Name: source, dtype: int64)"
      ]
     },
     "execution_count": 25,
     "metadata": {},
     "output_type": "execute_result"
    }
   ],
   "source": [
    "politics['source'].value_counts()"
   ]
  },
  {
   "cell_type": "code",
   "execution_count": 28,
   "metadata": {},
   "outputs": [
    {
     "name": "stderr",
     "output_type": "stream",
     "text": [
      "C:\\Anaconda3\\lib\\site-packages\\IPython\\core\\interactiveshell.py:2785: DtypeWarning: Columns (0,1,2,3,4,5,6,7,8,9,10,11,12,13,14,15,16) have mixed types. Specify dtype option on import or set low_memory=False.\n",
      "  interactivity=interactivity, compiler=compiler, result=result)\n"
     ]
    }
   ],
   "source": [
    "data = pd.read_csv('news_cleaned_2018_02_13.csv')"
   ]
  },
  {
   "cell_type": "code",
   "execution_count": 29,
   "metadata": {},
   "outputs": [
    {
     "data": {
      "text/html": [
       "<div>\n",
       "<style scoped>\n",
       "    .dataframe tbody tr th:only-of-type {\n",
       "        vertical-align: middle;\n",
       "    }\n",
       "\n",
       "    .dataframe tbody tr th {\n",
       "        vertical-align: top;\n",
       "    }\n",
       "\n",
       "    .dataframe thead th {\n",
       "        text-align: right;\n",
       "    }\n",
       "</style>\n",
       "<table border=\"1\" class=\"dataframe\">\n",
       "  <thead>\n",
       "    <tr style=\"text-align: right;\">\n",
       "      <th></th>\n",
       "      <th>Unnamed: 0</th>\n",
       "      <th>id</th>\n",
       "      <th>domain</th>\n",
       "      <th>type</th>\n",
       "      <th>url</th>\n",
       "      <th>content</th>\n",
       "      <th>scraped_at</th>\n",
       "      <th>inserted_at</th>\n",
       "      <th>updated_at</th>\n",
       "      <th>title</th>\n",
       "      <th>authors</th>\n",
       "      <th>keywords</th>\n",
       "      <th>meta_keywords</th>\n",
       "      <th>meta_description</th>\n",
       "      <th>tags</th>\n",
       "      <th>summary</th>\n",
       "      <th>source</th>\n",
       "    </tr>\n",
       "  </thead>\n",
       "  <tbody>\n",
       "    <tr>\n",
       "      <th>0</th>\n",
       "      <td>0</td>\n",
       "      <td>2</td>\n",
       "      <td>express.co.uk</td>\n",
       "      <td>rumor</td>\n",
       "      <td>https://www.express.co.uk/news/science/738402/...</td>\n",
       "      <td>Life is an illusion, at least on a quantum lev...</td>\n",
       "      <td>2018-01-25 16:17:44.789555</td>\n",
       "      <td>2018-02-02 01:19:41.756632</td>\n",
       "      <td>2018-02-02 01:19:41.756664</td>\n",
       "      <td>Is life an ILLUSION? Researchers prove 'realit...</td>\n",
       "      <td>Sean Martin</td>\n",
       "      <td>NaN</td>\n",
       "      <td>['']</td>\n",
       "      <td>THE UNIVERSE ceases to exist when we are not l...</td>\n",
       "      <td>NaN</td>\n",
       "      <td>NaN</td>\n",
       "      <td>NaN</td>\n",
       "    </tr>\n",
       "    <tr>\n",
       "      <th>1</th>\n",
       "      <td>1</td>\n",
       "      <td>6</td>\n",
       "      <td>barenakedislam.com</td>\n",
       "      <td>hate</td>\n",
       "      <td>http://barenakedislam.com/category/donald-trum...</td>\n",
       "      <td>Unfortunately, he hasn’t yet attacked her for ...</td>\n",
       "      <td>2018-01-25 16:17:44.789555</td>\n",
       "      <td>2018-02-02 01:19:41.756632</td>\n",
       "      <td>2018-02-02 01:19:41.756664</td>\n",
       "      <td>Donald Trump</td>\n",
       "      <td>Linda Rivera, Conrad Calvano, Az Gal, Lincoln ...</td>\n",
       "      <td>NaN</td>\n",
       "      <td>['']</td>\n",
       "      <td>NaN</td>\n",
       "      <td>NaN</td>\n",
       "      <td>NaN</td>\n",
       "      <td>NaN</td>\n",
       "    </tr>\n",
       "    <tr>\n",
       "      <th>2</th>\n",
       "      <td>2</td>\n",
       "      <td>7</td>\n",
       "      <td>barenakedislam.com</td>\n",
       "      <td>hate</td>\n",
       "      <td>http://barenakedislam.com/category/donald-trum...</td>\n",
       "      <td>The Los Angeles Police Department has been den...</td>\n",
       "      <td>2018-01-25 16:17:44.789555</td>\n",
       "      <td>2018-02-02 01:19:41.756632</td>\n",
       "      <td>2018-02-02 01:19:41.756664</td>\n",
       "      <td>Donald Trump</td>\n",
       "      <td>Linda Rivera, Conrad Calvano, Az Gal, Lincoln ...</td>\n",
       "      <td>NaN</td>\n",
       "      <td>['']</td>\n",
       "      <td>NaN</td>\n",
       "      <td>NaN</td>\n",
       "      <td>NaN</td>\n",
       "      <td>NaN</td>\n",
       "    </tr>\n",
       "    <tr>\n",
       "      <th>3</th>\n",
       "      <td>3</td>\n",
       "      <td>8</td>\n",
       "      <td>barenakedislam.com</td>\n",
       "      <td>hate</td>\n",
       "      <td>http://barenakedislam.com/2017/12/24/more-winn...</td>\n",
       "      <td>The White House has decided to quietly withdra...</td>\n",
       "      <td>2018-01-25 16:17:44.789555</td>\n",
       "      <td>2018-02-02 01:19:41.756632</td>\n",
       "      <td>2018-02-02 01:19:41.756664</td>\n",
       "      <td>MORE WINNING! Israeli intelligence source, DEB...</td>\n",
       "      <td>Cleavis Nowell, Cleavisnowell, Clarence J. Fei...</td>\n",
       "      <td>NaN</td>\n",
       "      <td>['']</td>\n",
       "      <td>NaN</td>\n",
       "      <td>NaN</td>\n",
       "      <td>NaN</td>\n",
       "      <td>NaN</td>\n",
       "    </tr>\n",
       "    <tr>\n",
       "      <th>4</th>\n",
       "      <td>4</td>\n",
       "      <td>9</td>\n",
       "      <td>barenakedislam.com</td>\n",
       "      <td>hate</td>\n",
       "      <td>http://barenakedislam.com/2017/12/25/oh-trump-...</td>\n",
       "      <td>“The time has come to cut off the tongues of t...</td>\n",
       "      <td>2018-01-25 16:17:44.789555</td>\n",
       "      <td>2018-02-02 01:19:41.756632</td>\n",
       "      <td>2018-02-02 01:19:41.756664</td>\n",
       "      <td>“Oh, Trump, you coward, you just wait, we will...</td>\n",
       "      <td>F.N. Lehner, Don Spilman, Clarence J. Feinour,...</td>\n",
       "      <td>NaN</td>\n",
       "      <td>['']</td>\n",
       "      <td>NaN</td>\n",
       "      <td>NaN</td>\n",
       "      <td>NaN</td>\n",
       "      <td>NaN</td>\n",
       "    </tr>\n",
       "  </tbody>\n",
       "</table>\n",
       "</div>"
      ],
      "text/plain": [
       "  Unnamed: 0 id              domain   type  \\\n",
       "0          0  2       express.co.uk  rumor   \n",
       "1          1  6  barenakedislam.com   hate   \n",
       "2          2  7  barenakedislam.com   hate   \n",
       "3          3  8  barenakedislam.com   hate   \n",
       "4          4  9  barenakedislam.com   hate   \n",
       "\n",
       "                                                 url  \\\n",
       "0  https://www.express.co.uk/news/science/738402/...   \n",
       "1  http://barenakedislam.com/category/donald-trum...   \n",
       "2  http://barenakedislam.com/category/donald-trum...   \n",
       "3  http://barenakedislam.com/2017/12/24/more-winn...   \n",
       "4  http://barenakedislam.com/2017/12/25/oh-trump-...   \n",
       "\n",
       "                                             content  \\\n",
       "0  Life is an illusion, at least on a quantum lev...   \n",
       "1  Unfortunately, he hasn’t yet attacked her for ...   \n",
       "2  The Los Angeles Police Department has been den...   \n",
       "3  The White House has decided to quietly withdra...   \n",
       "4  “The time has come to cut off the tongues of t...   \n",
       "\n",
       "                   scraped_at                 inserted_at  \\\n",
       "0  2018-01-25 16:17:44.789555  2018-02-02 01:19:41.756632   \n",
       "1  2018-01-25 16:17:44.789555  2018-02-02 01:19:41.756632   \n",
       "2  2018-01-25 16:17:44.789555  2018-02-02 01:19:41.756632   \n",
       "3  2018-01-25 16:17:44.789555  2018-02-02 01:19:41.756632   \n",
       "4  2018-01-25 16:17:44.789555  2018-02-02 01:19:41.756632   \n",
       "\n",
       "                   updated_at  \\\n",
       "0  2018-02-02 01:19:41.756664   \n",
       "1  2018-02-02 01:19:41.756664   \n",
       "2  2018-02-02 01:19:41.756664   \n",
       "3  2018-02-02 01:19:41.756664   \n",
       "4  2018-02-02 01:19:41.756664   \n",
       "\n",
       "                                               title  \\\n",
       "0  Is life an ILLUSION? Researchers prove 'realit...   \n",
       "1                                       Donald Trump   \n",
       "2                                       Donald Trump   \n",
       "3  MORE WINNING! Israeli intelligence source, DEB...   \n",
       "4  “Oh, Trump, you coward, you just wait, we will...   \n",
       "\n",
       "                                             authors keywords meta_keywords  \\\n",
       "0                                        Sean Martin      NaN          ['']   \n",
       "1  Linda Rivera, Conrad Calvano, Az Gal, Lincoln ...      NaN          ['']   \n",
       "2  Linda Rivera, Conrad Calvano, Az Gal, Lincoln ...      NaN          ['']   \n",
       "3  Cleavis Nowell, Cleavisnowell, Clarence J. Fei...      NaN          ['']   \n",
       "4  F.N. Lehner, Don Spilman, Clarence J. Feinour,...      NaN          ['']   \n",
       "\n",
       "                                    meta_description tags summary source  \n",
       "0  THE UNIVERSE ceases to exist when we are not l...  NaN     NaN    NaN  \n",
       "1                                                NaN  NaN     NaN    NaN  \n",
       "2                                                NaN  NaN     NaN    NaN  \n",
       "3                                                NaN  NaN     NaN    NaN  \n",
       "4                                                NaN  NaN     NaN    NaN  "
      ]
     },
     "execution_count": 29,
     "metadata": {},
     "output_type": "execute_result"
    }
   ],
   "source": [
    "data.head()"
   ]
  },
  {
   "cell_type": "code",
   "execution_count": 38,
   "metadata": {},
   "outputs": [
    {
     "data": {
      "text/plain": [
       "(11558723, 17)"
      ]
     },
     "execution_count": 38,
     "metadata": {},
     "output_type": "execute_result"
    }
   ],
   "source": [
    "data.shape"
   ]
  },
  {
   "cell_type": "code",
   "execution_count": 39,
   "metadata": {},
   "outputs": [],
   "source": [
    "cleaned = data.loc[data['type'].isin(['political', 'reliable', 'bias']), ['domain', 'type', 'url', 'content', 'title']]"
   ]
  },
  {
   "cell_type": "code",
   "execution_count": 40,
   "metadata": {},
   "outputs": [
    {
     "data": {
      "text/html": [
       "<div>\n",
       "<style scoped>\n",
       "    .dataframe tbody tr th:only-of-type {\n",
       "        vertical-align: middle;\n",
       "    }\n",
       "\n",
       "    .dataframe tbody tr th {\n",
       "        vertical-align: top;\n",
       "    }\n",
       "\n",
       "    .dataframe thead th {\n",
       "        text-align: right;\n",
       "    }\n",
       "</style>\n",
       "<table border=\"1\" class=\"dataframe\">\n",
       "  <thead>\n",
       "    <tr style=\"text-align: right;\">\n",
       "      <th></th>\n",
       "      <th>domain</th>\n",
       "      <th>type</th>\n",
       "      <th>url</th>\n",
       "      <th>content</th>\n",
       "      <th>title</th>\n",
       "    </tr>\n",
       "  </thead>\n",
       "  <tbody>\n",
       "    <tr>\n",
       "      <th>42</th>\n",
       "      <td>christianpost.com</td>\n",
       "      <td>reliable</td>\n",
       "      <td>https://www.christianpost.com/news/destiny-2-n...</td>\n",
       "      <td>Facebook/DestinyTheGame Promo image for \"Desti...</td>\n",
       "      <td>'Destiny 2' News: Bungie Addresses Player Comp...</td>\n",
       "    </tr>\n",
       "    <tr>\n",
       "      <th>83</th>\n",
       "      <td>christianpost.com</td>\n",
       "      <td>reliable</td>\n",
       "      <td>https://www.christianpost.com/news/professor-c...</td>\n",
       "      <td>(Screenshot: Facebook) Dr. Melina Abdullah, pr...</td>\n",
       "      <td>Professor Conducts Libation to Summon Spirits ...</td>\n",
       "    </tr>\n",
       "    <tr>\n",
       "      <th>84</th>\n",
       "      <td>christianpost.com</td>\n",
       "      <td>reliable</td>\n",
       "      <td>https://www.christianpost.com/news/ghost-ship-...</td>\n",
       "      <td>(Photo: Reuters) The teams of North and South ...</td>\n",
       "      <td>'Ghost Ship' With 8 Dead N. Koreans Washes Up ...</td>\n",
       "    </tr>\n",
       "    <tr>\n",
       "      <th>85</th>\n",
       "      <td>christianpost.com</td>\n",
       "      <td>reliable</td>\n",
       "      <td>https://www.christianpost.com/news/facebook-ba...</td>\n",
       "      <td>(Photo: Reuters/Dado Ruvic) Facebook.\\n\\nUPDAT...</td>\n",
       "      <td>Facebook Lifts Ban on Paid Ads for Pro-Life Fi...</td>\n",
       "    </tr>\n",
       "    <tr>\n",
       "      <th>86</th>\n",
       "      <td>christianpost.com</td>\n",
       "      <td>reliable</td>\n",
       "      <td>https://www.christianpost.com/news/iranian-chr...</td>\n",
       "      <td>(Screencap: YouTube/Tidningen Dagen) Annahita ...</td>\n",
       "      <td>Iranian Christian Convert Leads 1,500 Muslims ...</td>\n",
       "    </tr>\n",
       "  </tbody>\n",
       "</table>\n",
       "</div>"
      ],
      "text/plain": [
       "               domain      type  \\\n",
       "42  christianpost.com  reliable   \n",
       "83  christianpost.com  reliable   \n",
       "84  christianpost.com  reliable   \n",
       "85  christianpost.com  reliable   \n",
       "86  christianpost.com  reliable   \n",
       "\n",
       "                                                  url  \\\n",
       "42  https://www.christianpost.com/news/destiny-2-n...   \n",
       "83  https://www.christianpost.com/news/professor-c...   \n",
       "84  https://www.christianpost.com/news/ghost-ship-...   \n",
       "85  https://www.christianpost.com/news/facebook-ba...   \n",
       "86  https://www.christianpost.com/news/iranian-chr...   \n",
       "\n",
       "                                              content  \\\n",
       "42  Facebook/DestinyTheGame Promo image for \"Desti...   \n",
       "83  (Screenshot: Facebook) Dr. Melina Abdullah, pr...   \n",
       "84  (Photo: Reuters) The teams of North and South ...   \n",
       "85  (Photo: Reuters/Dado Ruvic) Facebook.\\n\\nUPDAT...   \n",
       "86  (Screencap: YouTube/Tidningen Dagen) Annahita ...   \n",
       "\n",
       "                                                title  \n",
       "42  'Destiny 2' News: Bungie Addresses Player Comp...  \n",
       "83  Professor Conducts Libation to Summon Spirits ...  \n",
       "84  'Ghost Ship' With 8 Dead N. Koreans Washes Up ...  \n",
       "85  Facebook Lifts Ban on Paid Ads for Pro-Life Fi...  \n",
       "86  Iranian Christian Convert Leads 1,500 Muslims ...  "
      ]
     },
     "execution_count": 40,
     "metadata": {},
     "output_type": "execute_result"
    }
   ],
   "source": [
    "cleaned.head()"
   ]
  },
  {
   "cell_type": "code",
   "execution_count": 41,
   "metadata": {},
   "outputs": [
    {
     "data": {
      "text/plain": [
       "(5472286, 5)"
      ]
     },
     "execution_count": 41,
     "metadata": {},
     "output_type": "execute_result"
    }
   ],
   "source": [
    "cleaned.shape"
   ]
  },
  {
   "cell_type": "code",
   "execution_count": 43,
   "metadata": {},
   "outputs": [
    {
     "data": {
      "text/plain": [
       "nytimes.com                          1542685\n",
       "ecowatch.com                          766421\n",
       "dailykos.com                          660626\n",
       "nationalreview.com                    319556\n",
       "sputniknews.com                       318745\n",
       "pravda.ru                              95141\n",
       "investmentwatchblog.com                68559\n",
       "dailycaller.com                        66706\n",
       "breitbart.com                          60436\n",
       "rawstory.com                           58659\n",
       "pjmedia.com                            52642\n",
       "katehon.com                            48151\n",
       "lifenews.com                           47986\n",
       "conservapedia.com                      42072\n",
       "thinkprogress.org                      40371\n",
       "unz.com                                39752\n",
       "presstv.com                            35796\n",
       "observer.com                           35212\n",
       "www.reuters.com                        33983\n",
       "lewrockwell.com                        33839\n",
       "truthandaction.org                     30202\n",
       "washingtonexaminer.com                 29476\n",
       "americanthinker.com                    29088\n",
       "weeklystandard.com                     28005\n",
       "mintpressnews.com                      26919\n",
       "rinf.com                               26853\n",
       "redstate.com                           26320\n",
       "thenewamerican.com                     26187\n",
       "americablog.com                        25829\n",
       "chroniclesmagazine.org                 25795\n",
       "                                      ...   \n",
       "rightwingnews.com                       6640\n",
       "americanlookout.com                     6633\n",
       "uk.reuters.com                          6574\n",
       "nutritionfacts.org                      6534\n",
       "www.theguardian.com                     6365\n",
       "consortiumnews.com                      6096\n",
       "ca.reuters.com                          5771\n",
       "counterpunch.org                        5578\n",
       "www.wsj.com                             5546\n",
       "antiwar.com                             5485\n",
       "af.reuters.com                          5412\n",
       "4threvolutionarywar.wordpress.com       5394\n",
       "www.nhl.com                             5376\n",
       "www.legacy.com                          5238\n",
       "freedomworks.org                        5193\n",
       "russia-insider.com                      5193\n",
       "www.latimes.com                         5146\n",
       "www.washingtonpost.com                  5067\n",
       "sports.yahoo.com                        5055\n",
       "jacobinmag.com                          4687\n",
       "www.nytimes.com                         4550\n",
       "dissentmagazine.org                     4496\n",
       "dailywire.com                           4360\n",
       "dennismichaellynch.com                  4258\n",
       "americanprogress.org                    4255\n",
       "www.nydailynews.com                     4174\n",
       "www.bloomberg.com                       4156\n",
       "in.reuters.com                          4082\n",
       "www.usatoday.com                        4061\n",
       "www.ndtv.com                            3966\n",
       "Name: domain, Length: 100, dtype: int64"
      ]
     },
     "execution_count": 43,
     "metadata": {},
     "output_type": "execute_result"
    }
   ],
   "source": [
    "cleaned['domain'].value_counts()[0:100]"
   ]
  },
  {
   "cell_type": "code",
   "execution_count": 35,
   "metadata": {},
   "outputs": [
    {
     "data": {
      "text/plain": [
       "nytimes.com                              1542685\n",
       "beforeitsnews.com                         781009\n",
       "ecowatch.com                              766421\n",
       "dailykos.com                              660626\n",
       "express.co.uk                             477264\n",
       "nationalreview.com                        319556\n",
       "sputniknews.com                           318745\n",
       "2018-02-07 23:39:33.852671                276576\n",
       "abovetopsecret.com                        238622\n",
       "wikileaks.org                             199031\n",
       "2018-02-08 19:18:34.468038                169520\n",
       "www.newsmax.com                           107420\n",
       "pravda.ru                                  95141\n",
       "www.ammoland.com                           92846\n",
       "wikispooks.com                             80683\n",
       "lifezette.com                              76999\n",
       "investmentwatchblog.com                    68559\n",
       "dailycaller.com                            66706\n",
       "breitbart.com                              60436\n",
       "thepostemail.com                           59236\n",
       "rawstory.com                               58659\n",
       "naturalnews.com                            56383\n",
       "pjmedia.com                                52642\n",
       "thedailysheeple.com                        51321\n",
       "www.amazon.com                             48578\n",
       "katehon.com                                48151\n",
       "lifenews.com                               47986\n",
       "us.blastingnews.com                        47193\n",
       "thesleuthjournal.com                       45781\n",
       "twitchy.com                                45588\n",
       "                                          ...   \n",
       "drudgereport.com                               1\n",
       "2016-11-29T18:16:28.917+02:00                  1\n",
       "www.zengardner.com                             1\n",
       "therundownlive.com                             1\n",
       "conspiracyplanet.com                           1\n",
       "www.TruthAndAction.org                         1\n",
       "2016-11-14T09:12:00.271+02:00                  1\n",
       "creativitymovement.net/category/news/          1\n",
       "patriotupdate.com                              1\n",
       "16wmpo.com                                     1\n",
       "Zengardner.com                                 1\n",
       "www.sott.NET                                   1\n",
       "conservativeflashnews.com                      1\n",
       "2016-11-17T20:50:20.601+02:00                  1\n",
       "2016-11-23T12:28:46.014+02:00                  1\n",
       "politicsusanews.com                            1\n",
       "local31news.com                                1\n",
       "www.Jesus-is-Savior.com                        1\n",
       "interestingdailynews.com                       1\n",
       "Newsmax.com                                    1\n",
       "usanewsflash.com                               1\n",
       "2016-11-14T00:36:52.374+02:00                  1\n",
       "2016-11-13T17:37:15.879+02:00                  1\n",
       "nymeta.co                                      1\n",
       "2016-11-14T21:16:20.914+02:00                  1\n",
       "realplanetnews.com                             1\n",
       "2016-11-14T01:38:19.175+02:00                  1\n",
       "ushealthylife.com                              1\n",
       "libertyalliance.com                            1\n",
       "2016-11-29T14:53:26.508+02:00                  1\n",
       "Name: domain, Length: 756, dtype: int64"
      ]
     },
     "execution_count": 35,
     "metadata": {},
     "output_type": "execute_result"
    }
   ],
   "source": [
    "data['domain'].value_counts()"
   ]
  },
  {
   "cell_type": "code",
   "execution_count": 36,
   "metadata": {},
   "outputs": [
    {
     "data": {
      "text/plain": [
       "political                     2420066\n",
       "reliable                      1913222\n",
       "bias                          1138998\n",
       "fake                           894746\n",
       "conspiracy                     831235\n",
       "rumor                          481158\n",
       "unknown                        371518\n",
       "unreliable                     298784\n",
       "2018-02-07 23:39:33.852696     276576\n",
       "clickbait                      231949\n",
       "2018-02-08 19:18:34.468066     169520\n",
       "junksci                        117467\n",
       "satire                         112948\n",
       "hate                            76496\n",
       " including Iraq                 44906\n",
       "2018-02-08 19:18:34.468038      40116\n",
       "2018-02-02 01:19:41.756664      34838\n",
       "” said Linton Roberts           32230\n",
       "2017-11-10T11:18:44.524042      14065\n",
       "2018-02-10 13:43:39.521661         13\n",
       "Name: type, dtype: int64"
      ]
     },
     "execution_count": 36,
     "metadata": {},
     "output_type": "execute_result"
    }
   ],
   "source": [
    "data['type'].value_counts()"
   ]
  },
  {
   "cell_type": "code",
   "execution_count": 44,
   "metadata": {},
   "outputs": [],
   "source": [
    "cleaned.to_csv('cleaned_news.csv', index = False)"
   ]
  }
 ],
 "metadata": {
  "kernelspec": {
   "display_name": "Python 3",
   "language": "python",
   "name": "python3"
  },
  "language_info": {
   "codemirror_mode": {
    "name": "ipython",
    "version": 3
   },
   "file_extension": ".py",
   "mimetype": "text/x-python",
   "name": "python",
   "nbconvert_exporter": "python",
   "pygments_lexer": "ipython3",
   "version": "3.6.5"
  }
 },
 "nbformat": 4,
 "nbformat_minor": 2
}
